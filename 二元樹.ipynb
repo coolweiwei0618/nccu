{
 "cells": [
  {
   "cell_type": "code",
   "execution_count": 11,
   "metadata": {
    "scrolled": true
   },
   "outputs": [
    {
     "name": "stdout",
     "output_type": "stream",
     "text": [
      "class TreeNode:;    def __init__(self, data=0):;        self.data = data;        self.left = None;        self.right = None;    def create(self, sequence, index):;        if index >= len(sequence) or sequence[index] == None:;            return None;        else:;            tempNode = TreeNode(sequence[index]);            tempNode.left = self.create(sequence, 2*index+1);            tempNode.right = self.create(sequence, 2*index+2);            return tempNode;def is_same_tree(p, q):;    if p and q:;        if p.data == q.data:;            return is_same_tree(p.right, q.right) and is_same_tree(p.left, q.left);    elif not p and not q:;        return True;    return False;print(is_same_tree(invert_tree(TreeNode(None).create([4,2,7,1,3,6,9],0)),TreeNode(None).create([4,7,2,9,6,3,1],0)))\n",
      "True\n"
     ]
    }
   ],
   "source": [
    "def invert_tree(node):\n",
    "  if node is None:\n",
    "    return None\n",
    " \n",
    "  node.left, node.right = node.right, node.left\n",
    " \n",
    "  invert_tree(node.left)\n",
    "  invert_tree(node.right)\n",
    " \n",
    "  return node\n",
    "\n",
    "exec(input().replace(';','\\n'))"
   ]
  },
  {
   "cell_type": "code",
   "execution_count": 12,
   "metadata": {},
   "outputs": [
    {
     "name": "stdout",
     "output_type": "stream",
     "text": [
      "class TreeNode:;    def __init__(self, data=0):;        self.data = data;        self.left = None;        self.right = None;    def create(self, sequence, index):;        if index >= len(sequence) or sequence[index] == None:;            return None;        else:;            tempNode = TreeNode(sequence[index]);            tempNode.left = self.create(sequence, 2*index+1);            tempNode.right = self.create(sequence, 2*index+2);            return tempNode;print(get_height(TreeNode(None).create([3,1,6,None,None,4,7],0)))\n",
      "3\n"
     ]
    }
   ],
   "source": [
    "def get_height(node): \n",
    "    if node is None: \n",
    "        return 0 ;  \n",
    "    else : \n",
    "        lDepth = get_height(node.left) \n",
    "        rDepth = get_height(node.right) \n",
    "        if (lDepth > rDepth): \n",
    "            return lDepth+1\n",
    "        else: \n",
    "            return rDepth+1\n",
    "exec(input().replace(';','\\n'))"
   ]
  },
  {
   "cell_type": "code",
   "execution_count": null,
   "metadata": {},
   "outputs": [],
   "source": []
  }
 ],
 "metadata": {
  "kernelspec": {
   "display_name": "Python 3",
   "language": "python",
   "name": "python3"
  },
  "language_info": {
   "codemirror_mode": {
    "name": "ipython",
    "version": 3
   },
   "file_extension": ".py",
   "mimetype": "text/x-python",
   "name": "python",
   "nbconvert_exporter": "python",
   "pygments_lexer": "ipython3",
   "version": "3.8.3"
  }
 },
 "nbformat": 4,
 "nbformat_minor": 4
}
